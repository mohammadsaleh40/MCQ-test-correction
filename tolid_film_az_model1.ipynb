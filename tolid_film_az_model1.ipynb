{
 "cells": [
  {
   "cell_type": "code",
   "execution_count": 3,
   "metadata": {},
   "outputs": [
    {
     "name": "stderr",
     "output_type": "stream",
     "text": [
      "2022-03-30 20:06:03.219094: W tensorflow/stream_executor/platform/default/dso_loader.cc:64] Could not load dynamic library 'libcudart.so.11.0'; dlerror: libcudart.so.11.0: cannot open shared object file: No such file or directory; LD_LIBRARY_PATH: /home/mohammadsaleh/.local/lib/python3.8/site-packages/cv2/../../lib64:\n",
      "2022-03-30 20:06:03.219114: I tensorflow/stream_executor/cuda/cudart_stub.cc:29] Ignore above cudart dlerror if you do not have a GPU set up on your machine.\n",
      "/usr/lib/python3/dist-packages/requests/__init__.py:89: RequestsDependencyWarning: urllib3 (1.26.8) or chardet (3.0.4) doesn't match a supported version!\n",
      "  warnings.warn(\"urllib3 ({}) or chardet ({}) doesn't match a supported \"\n"
     ]
    }
   ],
   "source": [
    "from time import sleep\n",
    "import cv2 as cv\n",
    "import numpy as np\n",
    "import pandas as pd\n",
    "#from math import abs\n",
    "\n",
    "from functions import fa , miyangin_gir , door_tarin , fasele , nazdik_tarin , nazdik_tarin_m\n",
    "from functions import siyah_peyda_kon , stackImages , sotone_detect , changeres , rescaleFrame \n",
    "from functions import contours2X , gooshe_X , warp_image\n",
    "\n",
    "\n",
    "\n",
    "\n",
    "from tensorflow import keras\n",
    "\n"
   ]
  },
  {
   "cell_type": "code",
   "execution_count": 4,
   "metadata": {},
   "outputs": [
    {
     "name": "stderr",
     "output_type": "stream",
     "text": [
      "2022-03-30 20:06:18.273537: I tensorflow/stream_executor/cuda/cuda_gpu_executor.cc:939] successful NUMA node read from SysFS had negative value (-1), but there must be at least one NUMA node, so returning NUMA node zero\n",
      "2022-03-30 20:06:18.274414: W tensorflow/stream_executor/platform/default/dso_loader.cc:64] Could not load dynamic library 'libcudart.so.11.0'; dlerror: libcudart.so.11.0: cannot open shared object file: No such file or directory; LD_LIBRARY_PATH: /home/mohammadsaleh/.local/lib/python3.8/site-packages/cv2/../../lib64:\n",
      "2022-03-30 20:06:18.274559: W tensorflow/stream_executor/platform/default/dso_loader.cc:64] Could not load dynamic library 'libcublas.so.11'; dlerror: libcublas.so.11: cannot open shared object file: No such file or directory; LD_LIBRARY_PATH: /home/mohammadsaleh/.local/lib/python3.8/site-packages/cv2/../../lib64:\n",
      "2022-03-30 20:06:18.274648: W tensorflow/stream_executor/platform/default/dso_loader.cc:64] Could not load dynamic library 'libcublasLt.so.11'; dlerror: libcublasLt.so.11: cannot open shared object file: No such file or directory; LD_LIBRARY_PATH: /home/mohammadsaleh/.local/lib/python3.8/site-packages/cv2/../../lib64:\n",
      "2022-03-30 20:06:18.274739: W tensorflow/stream_executor/platform/default/dso_loader.cc:64] Could not load dynamic library 'libcufft.so.10'; dlerror: libcufft.so.10: cannot open shared object file: No such file or directory; LD_LIBRARY_PATH: /home/mohammadsaleh/.local/lib/python3.8/site-packages/cv2/../../lib64:\n",
      "2022-03-30 20:06:18.274827: W tensorflow/stream_executor/platform/default/dso_loader.cc:64] Could not load dynamic library 'libcurand.so.10'; dlerror: libcurand.so.10: cannot open shared object file: No such file or directory; LD_LIBRARY_PATH: /home/mohammadsaleh/.local/lib/python3.8/site-packages/cv2/../../lib64:\n",
      "2022-03-30 20:06:18.274911: W tensorflow/stream_executor/platform/default/dso_loader.cc:64] Could not load dynamic library 'libcusolver.so.11'; dlerror: libcusolver.so.11: cannot open shared object file: No such file or directory; LD_LIBRARY_PATH: /home/mohammadsaleh/.local/lib/python3.8/site-packages/cv2/../../lib64:\n",
      "2022-03-30 20:06:18.274996: W tensorflow/stream_executor/platform/default/dso_loader.cc:64] Could not load dynamic library 'libcusparse.so.11'; dlerror: libcusparse.so.11: cannot open shared object file: No such file or directory; LD_LIBRARY_PATH: /home/mohammadsaleh/.local/lib/python3.8/site-packages/cv2/../../lib64:\n",
      "2022-03-30 20:06:18.275083: W tensorflow/stream_executor/platform/default/dso_loader.cc:64] Could not load dynamic library 'libcudnn.so.8'; dlerror: libcudnn.so.8: cannot open shared object file: No such file or directory; LD_LIBRARY_PATH: /home/mohammadsaleh/.local/lib/python3.8/site-packages/cv2/../../lib64:\n",
      "2022-03-30 20:06:18.275095: W tensorflow/core/common_runtime/gpu/gpu_device.cc:1850] Cannot dlopen some GPU libraries. Please make sure the missing libraries mentioned above are installed properly if you would like to use GPU. Follow the guide at https://www.tensorflow.org/install/gpu for how to download and setup the required libraries for your platform.\n",
      "Skipping registering GPU devices...\n",
      "2022-03-30 20:06:18.275394: I tensorflow/core/platform/cpu_feature_guard.cc:151] This TensorFlow binary is optimized with oneAPI Deep Neural Network Library (oneDNN) to use the following CPU instructions in performance-critical operations:  AVX2 FMA\n",
      "To enable them in other operations, rebuild TensorFlow with the appropriate compiler flags.\n"
     ]
    }
   ],
   "source": [
    "#create a model in ai.ipynb\n",
    "#load model.h5\n",
    "model = keras.models.load_model('model_(2022, 3, 5, 16)0.90.h5')\n"
   ]
  },
  {
   "cell_type": "code",
   "execution_count": 8,
   "metadata": {},
   "outputs": [],
   "source": [
    "capture = cv.VideoCapture('18.mp4')\n",
    "j = 0\n",
    "ret = True\n",
    "out = cv.VideoWriter('oytput.avi', cv.VideoWriter_fourcc(*'MJPG'), 30.0, (1750,2000))\n",
    "\n",
    "while ret:\n",
    "    \n",
    "    ret , frame = capture.read()\n",
    "    \n",
    "    j+=1\n",
    "    if ret:\n",
    "        frame2 , mask , contours= siyah_peyda_kon(frame)\n",
    "        if contours!= False:\n",
    "            markaz = miyangin_gir(contours)\n",
    "            frame3 = frame2.copy()\n",
    "            \n",
    "            X = np.array([contours2X(contours , markaz)])\n",
    "            \n",
    "            gooshe_ha = np.float32(gooshe_X(X , model)+markaz)\n",
    "            frame4 = warp_image(frame, gooshe_ha)\n",
    "            #cv.imshow('boresh_dade_shode', rescaleFrame(frame4 , 0.35))\n",
    "            out.write(frame4)\n",
    "            #if cv.waitKey(1) == ord('q'):\n",
    "            #    break\n",
    "        #else:\n",
    "            #cv.imshow('boresh_dade_shode', rescaleFrame(frame , 0.35))\n",
    "            #if cv.waitKey(1) == ord('q'):\n",
    "            #    break\n",
    "capture.release()\n",
    "out.release()\n",
    "cv.destroyAllWindows()\n"
   ]
  },
  {
   "cell_type": "code",
   "execution_count": null,
   "metadata": {},
   "outputs": [],
   "source": []
  },
  {
   "cell_type": "code",
   "execution_count": null,
   "metadata": {},
   "outputs": [],
   "source": []
  }
 ],
 "metadata": {
  "interpreter": {
   "hash": "916dbcbb3f70747c44a77c7bcd40155683ae19c65e1c03b4aa3499c5328201f1"
  },
  "kernelspec": {
   "display_name": "Python 3.8.10 64-bit",
   "language": "python",
   "name": "python3"
  },
  "language_info": {
   "codemirror_mode": {
    "name": "ipython",
    "version": 3
   },
   "file_extension": ".py",
   "mimetype": "text/x-python",
   "name": "python",
   "nbconvert_exporter": "python",
   "pygments_lexer": "ipython3",
   "version": "3.8.10"
  },
  "orig_nbformat": 4
 },
 "nbformat": 4,
 "nbformat_minor": 2
}
